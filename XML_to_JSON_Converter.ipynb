{
  "nbformat": 4,
  "nbformat_minor": 0,
  "metadata": {
    "colab": {
      "provenance": []
    },
    "kernelspec": {
      "name": "python3",
      "display_name": "Python 3"
    },
    "language_info": {
      "name": "python"
    }
  },
  "cells": [
    {
      "cell_type": "markdown",
      "source": [
        "# Step 1: Work an Example"
      ],
      "metadata": {
        "id": "YJnJhPR1GE3V"
      }
    },
    {
      "cell_type": "code",
      "execution_count": null,
      "metadata": {
        "id": "ne4rq-eXF9XS"
      },
      "outputs": [],
      "source": [
        "TestXML = \"\"\"\n",
        "<note>\n",
        "  <to>\n",
        "    <name>Tove</name>\n",
        "    <about>Friend</about>\n",
        "  </to>\n",
        "  <from>Jani</from>\n",
        "  <heading>Reminder</heading>\n",
        "  <body>Don't forget me this weekend!</body>\n",
        "</note>\n",
        "\"\"\"\n",
        "\n",
        "TestJSON = \"\"\"\n",
        "{\n",
        "  \"note\" :\n",
        "    {\n",
        "      \"to\":\n",
        "      {\n",
        "        \"name\":\"Tove\",\n",
        "        \"about\":\"Friend\"\n",
        "      },\n",
        "      \"from\":\"Jani\",\n",
        "      \"heading\":\"Reminder\",\n",
        "      \"body\":\"Don't forget me this weekend!\"\n",
        "    }\n",
        "}\n",
        "\"\"\""
      ]
    },
    {
      "cell_type": "markdown",
      "source": [
        "#Step 2: Write Down What Is Just Done"
      ],
      "metadata": {
        "id": "VqGHZMz-Hijo"
      }
    },
    {
      "cell_type": "markdown",
      "source": [
        "1- Find the root element of XML Doc:  \n",
        "\n",
        "```\n",
        "In this case it is\n",
        "<note>\n",
        "```\n",
        "2- Convert \"note\" to the key by opening {} and inside it type note surrounded by \"\" followed by :\n",
        "```\n",
        "{\n",
        "  \"note\":\n",
        "}\n",
        "```\n",
        "3- Find out note values. There are more attributes, it will form a new dict, and the names of note tags will be the keys to this new dict and repeat these steps until /note is reached\n",
        "```\n",
        "{\n",
        "  \"note\" :\n",
        "    {\n",
        "      \"to\":\n",
        "      {\n",
        "        \"name\":\"Tove\",\n",
        "        \"about\":\"Friend\"\n",
        "      },\n",
        "      \"from\":\"Jani\",\n",
        "      \"heading\":\"Reminder\",\n",
        "      \"body\":\"Don't forget me this weekend!\"\n",
        "    }\n",
        "}\n",
        "```"
      ],
      "metadata": {
        "id": "HXwTEBtlJaWb"
      }
    },
    {
      "cell_type": "markdown",
      "source": [
        "#Step 3: Generalize Steps"
      ],
      "metadata": {
        "id": "l_ubp6J4Hujk"
      }
    },
    {
      "cell_type": "markdown",
      "source": [
        "1- Find the root element of XML Doc\n",
        "\n",
        "2- Convert the root element to the key by opening {} and inside it type the root element surrounded by \"\" followed by :\n",
        "\n",
        "3- Find out whether the root element contains one or more attribute values. If it is a single value, it will be in \"\", but if there are more attributes, it will form a new dict, and the names of its tags will be the keys to this new dict and repeat these steps until the end tag is reached\n",
        "4- If a single tag is repeated, the name of the tag will be the key and the attributes of each occurrence of that tag will be an element in an array, which will have the value of that tag as the key"
      ],
      "metadata": {
        "id": "HDW_izQZUf84"
      }
    },
    {
      "cell_type": "markdown",
      "source": [
        "#Step 4: Test Algorithm\n",
        "Another Exapmle"
      ],
      "metadata": {
        "id": "AvnY0XZzHz0W"
      }
    },
    {
      "cell_type": "code",
      "source": [
        "xml_string = '''\n",
        "<root>\n",
        "    <person>\n",
        "        <name>John</name>\n",
        "        <age>30</age>\n",
        "        <city>New York</city>\n",
        "    </person>\n",
        "    <person>\n",
        "        <name>Anne</name>\n",
        "        <age>25</age>\n",
        "        <city>Los Angeles</city>\n",
        "    </person>\n",
        "</root>\n",
        "'''\n",
        "json_string = '''\n",
        "{\n",
        "  \"root\":\n",
        "  {\n",
        "    \"person\":\n",
        "    [\n",
        "      {\n",
        "        \"name\":\"John\",\n",
        "        \"age\":\"30\",\n",
        "        \"city\":\"New York\"\n",
        "      },\n",
        "      {\n",
        "        \"name\":\"Anne\",\n",
        "        \"age\":\"25\",\n",
        "        \"city\":\"Los Angeles\"\n",
        "      }\n",
        "    ]\n",
        "  }\n",
        "}"
      ],
      "metadata": {
        "id": "zsnUOCmkH3FS"
      },
      "execution_count": null,
      "outputs": []
    },
    {
      "cell_type": "code",
      "source": [
        "pip install xmltodict"
      ],
      "metadata": {
        "colab": {
          "base_uri": "https://localhost:8080/"
        },
        "id": "_lYVGKNHB6LZ",
        "outputId": "8be5d14d-c6de-4b1e-ab2f-488890aae3e3"
      },
      "execution_count": 1,
      "outputs": [
        {
          "output_type": "stream",
          "name": "stdout",
          "text": [
            "Collecting xmltodict\n",
            "  Downloading xmltodict-0.13.0-py2.py3-none-any.whl (10.0 kB)\n",
            "Installing collected packages: xmltodict\n",
            "Successfully installed xmltodict-0.13.0\n"
          ]
        }
      ]
    },
    {
      "cell_type": "code",
      "source": [
        "import xmltodict\n",
        "import json"
      ],
      "metadata": {
        "id": "zjvwqse4B6_A"
      },
      "execution_count": 2,
      "outputs": []
    },
    {
      "cell_type": "code",
      "source": [
        "\n",
        "def xml_to_json(xml_string):\n",
        "    # Parse XML to OrderedDict\n",
        "    data_dict = xmltodict.parse(xml_string)\n",
        "\n",
        "    # Convert OrderedDict to JSON string\n",
        "    json_data = json.dumps(data_dict, indent=2)\n",
        "\n",
        "    return json_data"
      ],
      "metadata": {
        "id": "iL9PEeR7CKeg"
      },
      "execution_count": 3,
      "outputs": []
    },
    {
      "cell_type": "code",
      "source": [
        "\n",
        "# Example XML string\n",
        "xml_string = '''\n",
        "    <root>\n",
        "        <person>\n",
        "            <name>John Doe</name>\n",
        "            <age>30</age>\n",
        "            <city>New York</city>\n",
        "        </person>\n",
        "        <person>\n",
        "            <name>Jane Doe</name>\n",
        "            <age>25</age>\n",
        "            <city>Los Angeles</city>\n",
        "        </person>\n",
        "    </root>\n",
        "'''\n",
        "\n",
        "# Convert XML to JSON\n",
        "json_result = xml_to_json(xml_string)\n",
        "\n",
        "# Print the result\n",
        "print(json_result)"
      ],
      "metadata": {
        "colab": {
          "base_uri": "https://localhost:8080/"
        },
        "id": "YlZj9mgUCMy-",
        "outputId": "167c6717-6072-48bb-eb14-fd0df30a80af"
      },
      "execution_count": 4,
      "outputs": [
        {
          "output_type": "stream",
          "name": "stdout",
          "text": [
            "{\n",
            "  \"root\": {\n",
            "    \"person\": [\n",
            "      {\n",
            "        \"name\": \"John Doe\",\n",
            "        \"age\": \"30\",\n",
            "        \"city\": \"New York\"\n",
            "      },\n",
            "      {\n",
            "        \"name\": \"Jane Doe\",\n",
            "        \"age\": \"25\",\n",
            "        \"city\": \"Los Angeles\"\n",
            "      }\n",
            "    ]\n",
            "  }\n",
            "}\n"
          ]
        }
      ]
    }
  ]
}